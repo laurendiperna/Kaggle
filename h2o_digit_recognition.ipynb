{
 "cells": [
  {
   "cell_type": "code",
   "execution_count": 1,
   "metadata": {
    "collapsed": false
   },
   "outputs": [
    {
     "data": {
      "text/html": [
       "<div style=\"overflow:auto\"><table style=\"width:50%\"><tr><td>H2O cluster uptime: </td>\n",
       "<td>1 days 4 hours 57 minutes 42 seconds 236 milliseconds </td></tr>\n",
       "<tr><td>H2O cluster version: </td>\n",
       "<td>3.7.0.3248</td></tr>\n",
       "<tr><td>H2O cluster name: </td>\n",
       "<td>H2O_started_from_python</td></tr>\n",
       "<tr><td>H2O cluster total nodes: </td>\n",
       "<td>1</td></tr>\n",
       "<tr><td>H2O cluster total memory: </td>\n",
       "<td>1.78 GB</td></tr>\n",
       "<tr><td>H2O cluster total cores: </td>\n",
       "<td>8</td></tr>\n",
       "<tr><td>H2O cluster allowed cores: </td>\n",
       "<td>8</td></tr>\n",
       "<tr><td>H2O cluster healthy: </td>\n",
       "<td>True</td></tr>\n",
       "<tr><td>H2O Connection ip: </td>\n",
       "<td>127.0.0.1</td></tr>\n",
       "<tr><td>H2O Connection port: </td>\n",
       "<td>54321</td></tr></table></div>"
      ],
      "text/plain": [
       "--------------------------  -----------------------------------------------------\n",
       "H2O cluster uptime:         1 days 4 hours 57 minutes 42 seconds 236 milliseconds\n",
       "H2O cluster version:        3.7.0.3248\n",
       "H2O cluster name:           H2O_started_from_python\n",
       "H2O cluster total nodes:    1\n",
       "H2O cluster total memory:   1.78 GB\n",
       "H2O cluster total cores:    8\n",
       "H2O cluster allowed cores:  8\n",
       "H2O cluster healthy:        True\n",
       "H2O Connection ip:          127.0.0.1\n",
       "H2O Connection port:        54321\n",
       "--------------------------  -----------------------------------------------------"
      ]
     },
     "metadata": {},
     "output_type": "display_data"
    }
   ],
   "source": [
    "# Start by importing H2O\n",
    "import h2o\n",
    "\n",
    "# initialize an h2o cluster\n",
    "h2o.init()\n"
   ]
  },
  {
   "cell_type": "code",
   "execution_count": 4,
   "metadata": {
    "collapsed": false
   },
   "outputs": [
    {
     "name": "stdout",
     "output_type": "stream",
     "text": [
      "\n",
      "Parse Progress: [##################################################] 100%\n",
      "\n",
      "Parse Progress: [##################################################] 100%\n"
     ]
    }
   ],
   "source": [
    "# Download the test and train csvs here: https://www.kaggle.com/c/digit-recognizer/data\n",
    "# move the test.csv and train.csv files to the same directory as this ipython notebook\n",
    "\n",
    "# load your training and testing data\n",
    "# store the path to your train and test files\n",
    "# if you didn't move the data files to the same directory as this notebook then you\n",
    "# need have the entire pathway (i.e. '/Users/username/Kaggle_Competitions/train.csv')\n",
    "train_file = 'train.csv'\n",
    "test_file = 'test.csv'\n",
    "\n",
    "# create an H2O data frame for the train and test data sets\n",
    "train = h2o.import_file(train_file)\n",
    "test = h2o.import_file(test_file)"
   ]
  },
  {
   "cell_type": "code",
   "execution_count": 5,
   "metadata": {
    "collapsed": false
   },
   "outputs": [
    {
     "name": "stdout",
     "output_type": "stream",
     "text": [
      "(42000, 785)\n",
      "(28000, 784)\n"
     ]
    }
   ],
   "source": [
    "# Take a look at the dimensions of your data frames\n",
    "print train.shape\n",
    "print test.shape"
   ]
  },
  {
   "cell_type": "code",
   "execution_count": 17,
   "metadata": {
    "collapsed": false
   },
   "outputs": [],
   "source": [
    "# If you want to see all the Column names you can use train.columns or train.names\n",
    "# uncomment the below to see examples\n",
    "# print train.names[0] # looks at the first column name in your dataframe\n",
    "# print test.columns\n",
    "\n",
    "# if you want to see a brief summary of the data, run the following commands\n",
    "# train.describe()\n",
    "# test.describe()"
   ]
  },
  {
   "cell_type": "code",
   "execution_count": 14,
   "metadata": {
    "collapsed": true
   },
   "outputs": [],
   "source": [
    "# Split your train dataset from train.csv into a train and test set (where both sets have a response column)\n",
    "# you can split the data as you want, the example below split the data 80/20\n",
    "# First use .runif to assign a random number to each row, from a uniform set of random numbers between 0 and 1\n",
    "r = train.runif()   \n",
    "\n",
    "# all values of r under .8 are assigned to 'train_split' (80 percent)\n",
    "train_split = train[r  < 0.8]\n",
    "# all values of r equal or above .8 are assigned 'valid_split' (20 percent)\n",
    "valid_split = train[r >= 0.8]"
   ]
  },
  {
   "cell_type": "code",
   "execution_count": 18,
   "metadata": {
    "collapsed": false
   },
   "outputs": [
    {
     "name": "stdout",
     "output_type": "stream",
     "text": [
      "\n",
      "deeplearning Model Build Progress: [##################################################] 100%\n"
     ]
    },
    {
     "name": "stderr",
     "output_type": "stream",
     "text": [
      "/Users/laurendiperna/anaconda/lib/python2.7/site-packages/ipykernel/__main__.py:18: DeprecationWarning: `h2o.deeplearning` is deprecated. Use the estimators sub module to build an H2ODeepLearningEstimator.\n"
     ]
    }
   ],
   "source": [
    "# Encode the response column as categorical ('label' in the train.csv dataset lists the actual handwritten digit)\n",
    "train_split[\"label\"] = train_split[\"label\"].asfactor()\n",
    "valid_split[\"label\"] = valid_split[\"label\"].asfactor()\n",
    "\n",
    "\n",
    "# Train a Deep Learning model and validate on a test set\n",
    "# x is the list of column names excluding the response column (all of your features)\n",
    "# y is the name of the response column ('label')\n",
    "model = h2o.deeplearning(x=train.names[1:785], \n",
    "                         y=train.names[0], \n",
    "                         training_frame=train_split, \n",
    "                         validation_frame=valid_split, \n",
    "                         distribution=\"multinomial\",\n",
    "                         activation=\"RectifierWithDropout\", \n",
    "                         hidden=[200,200,200], \n",
    "                         input_dropout_ratio=0.2, \n",
    "                         l1=1e-5, \n",
    "                         epochs=10)\n",
    "\n",
    "# Because h2o.deeplearning is deprecated you'll want to use the below in the future\n",
    "# from h2o.estimators.deeplearning import H2ODeepLearningEstimator\n"
   ]
  },
  {
   "cell_type": "code",
   "execution_count": 20,
   "metadata": {
    "collapsed": false
   },
   "outputs": [],
   "source": [
    "# View the specified parameters of your Deep Learning model\n",
    "model.params"
   ]
  },
  {
   "cell_type": "code",
   "execution_count": 21,
   "metadata": {
    "collapsed": false
   },
   "outputs": [
    {
     "name": "stdout",
     "output_type": "stream",
     "text": [
      "Model Details\n",
      "=============\n",
      "H2OEstimator :  Deep Learning\n",
      "Model Key:  DeepLearning_model_python_1446756221694_4\n",
      "\n",
      "Status of Neuron Layers: predicting label, 10-class classification, multinomial distribution, CrossEntropy loss, 224,010 weights/biases, 2.8 MB, 337,280 training samples, mini-batch size 1\n",
      "\n"
     ]
    },
    {
     "data": {
      "text/html": [
       "<div style=\"overflow:auto\"><table style=\"width:50%\"><tr><td><b></b></td>\n",
       "<td><b>layer</b></td>\n",
       "<td><b>units</b></td>\n",
       "<td><b>type</b></td>\n",
       "<td><b>dropout</b></td>\n",
       "<td><b>l1</b></td>\n",
       "<td><b>l2</b></td>\n",
       "<td><b>mean_rate</b></td>\n",
       "<td><b>rate_RMS</b></td>\n",
       "<td><b>momentum</b></td>\n",
       "<td><b>mean_weight</b></td>\n",
       "<td><b>weight_RMS</b></td>\n",
       "<td><b>mean_bias</b></td>\n",
       "<td><b>bias_RMS</b></td></tr>\n",
       "<tr><td></td>\n",
       "<td>1</td>\n",
       "<td>707</td>\n",
       "<td>Input</td>\n",
       "<td>20.0</td>\n",
       "<td></td>\n",
       "<td></td>\n",
       "<td></td>\n",
       "<td></td>\n",
       "<td></td>\n",
       "<td></td>\n",
       "<td></td>\n",
       "<td></td>\n",
       "<td></td></tr>\n",
       "<tr><td></td>\n",
       "<td>2</td>\n",
       "<td>200</td>\n",
       "<td>RectifierDropout</td>\n",
       "<td>50.0</td>\n",
       "<td>1e-05</td>\n",
       "<td>0.0</td>\n",
       "<td>0.1</td>\n",
       "<td>0.1</td>\n",
       "<td>0.0</td>\n",
       "<td>0.0</td>\n",
       "<td>0.1</td>\n",
       "<td>0.2</td>\n",
       "<td>0.1</td></tr>\n",
       "<tr><td></td>\n",
       "<td>3</td>\n",
       "<td>200</td>\n",
       "<td>RectifierDropout</td>\n",
       "<td>50.0</td>\n",
       "<td>1e-05</td>\n",
       "<td>0.0</td>\n",
       "<td>0.0</td>\n",
       "<td>0.0</td>\n",
       "<td>0.0</td>\n",
       "<td>-0.0</td>\n",
       "<td>0.1</td>\n",
       "<td>0.9</td>\n",
       "<td>0.1</td></tr>\n",
       "<tr><td></td>\n",
       "<td>4</td>\n",
       "<td>200</td>\n",
       "<td>RectifierDropout</td>\n",
       "<td>50.0</td>\n",
       "<td>1e-05</td>\n",
       "<td>0.0</td>\n",
       "<td>0.0</td>\n",
       "<td>0.0</td>\n",
       "<td>0.0</td>\n",
       "<td>-0.0</td>\n",
       "<td>0.1</td>\n",
       "<td>0.9</td>\n",
       "<td>0.0</td></tr>\n",
       "<tr><td></td>\n",
       "<td>5</td>\n",
       "<td>10</td>\n",
       "<td>Softmax</td>\n",
       "<td></td>\n",
       "<td>1e-05</td>\n",
       "<td>0.0</td>\n",
       "<td>0.0</td>\n",
       "<td>0.0</td>\n",
       "<td>0.0</td>\n",
       "<td>-0.1</td>\n",
       "<td>0.4</td>\n",
       "<td>-0.7</td>\n",
       "<td>0.2</td></tr></table></div>"
      ],
      "text/plain": [
       "    layer    units    type              dropout    l1     l2    mean_rate         rate_RMS           momentum    mean_weight      weight_RMS       mean_bias        bias_RMS\n",
       "--  -------  -------  ----------------  ---------  -----  ----  ----------------  -----------------  ----------  ---------------  ---------------  ---------------  ---------------\n",
       "    1        707      Input             20.0\n",
       "    2        200      RectifierDropout  50.0       1e-05  0.0   0.0654895234032   0.145349144936     0.0         0.01780730968    0.0645587444305  0.215552463954   0.0976538360119\n",
       "    3        200      RectifierDropout  50.0       1e-05  0.0   0.00106408746998  0.000406734761782  0.0         -0.014874239721  0.0753324329853  0.915648552772   0.0544643849134\n",
       "    4        200      RectifierDropout  50.0       1e-05  0.0   0.00128061288467  0.000647895038128  0.0         -0.020202074465  0.072369068861   0.856613810563   0.0461696982384\n",
       "    5        10       Softmax                      1e-05  0.0   0.00551282051337  0.0151976719499    0.0         -0.099333618913  0.400662779808   -0.730949038193  0.161778867245"
      ]
     },
     "metadata": {},
     "output_type": "display_data"
    },
    {
     "name": "stdout",
     "output_type": "stream",
     "text": [
      "\n",
      "\n",
      "ModelMetricsMultinomial: deeplearning\n",
      "** Reported on train data. **\n",
      "\n",
      "MSE: 0.0268396391412\n",
      "R^2: 0.996788756681\n",
      "LogLoss: 0.0963208866318\n",
      "\n",
      "Confusion Matrix: vertical: actual; across: predicted\n",
      "\n"
     ]
    },
    {
     "data": {
      "text/html": [
       "<div style=\"overflow:auto\"><table style=\"width:50%\"><tr><td><b>0</b></td>\n",
       "<td><b>1</b></td>\n",
       "<td><b>2</b></td>\n",
       "<td><b>3</b></td>\n",
       "<td><b>4</b></td>\n",
       "<td><b>5</b></td>\n",
       "<td><b>6</b></td>\n",
       "<td><b>7</b></td>\n",
       "<td><b>8</b></td>\n",
       "<td><b>9</b></td>\n",
       "<td><b>Error</b></td>\n",
       "<td><b>Rate</b></td></tr>\n",
       "<tr><td>956.0</td>\n",
       "<td>0.0</td>\n",
       "<td>0.0</td>\n",
       "<td>0.0</td>\n",
       "<td>0.0</td>\n",
       "<td>1.0</td>\n",
       "<td>7.0</td>\n",
       "<td>0.0</td>\n",
       "<td>2.0</td>\n",
       "<td>0.0</td>\n",
       "<td>0.0</td>\n",
       "<td>10 / 966</td></tr>\n",
       "<tr><td>0.0</td>\n",
       "<td>1088.0</td>\n",
       "<td>7.0</td>\n",
       "<td>2.0</td>\n",
       "<td>1.0</td>\n",
       "<td>0.0</td>\n",
       "<td>0.0</td>\n",
       "<td>2.0</td>\n",
       "<td>3.0</td>\n",
       "<td>0.0</td>\n",
       "<td>0.0</td>\n",
       "<td>15 / 1,103</td></tr>\n",
       "<tr><td>5.0</td>\n",
       "<td>4.0</td>\n",
       "<td>983.0</td>\n",
       "<td>9.0</td>\n",
       "<td>3.0</td>\n",
       "<td>0.0</td>\n",
       "<td>1.0</td>\n",
       "<td>8.0</td>\n",
       "<td>4.0</td>\n",
       "<td>0.0</td>\n",
       "<td>0.0</td>\n",
       "<td>34 / 1,017</td></tr>\n",
       "<tr><td>0.0</td>\n",
       "<td>3.0</td>\n",
       "<td>8.0</td>\n",
       "<td>997.0</td>\n",
       "<td>0.0</td>\n",
       "<td>17.0</td>\n",
       "<td>0.0</td>\n",
       "<td>8.0</td>\n",
       "<td>11.0</td>\n",
       "<td>1.0</td>\n",
       "<td>0.0</td>\n",
       "<td>48 / 1,045</td></tr>\n",
       "<tr><td>2.0</td>\n",
       "<td>2.0</td>\n",
       "<td>3.0</td>\n",
       "<td>0.0</td>\n",
       "<td>962.0</td>\n",
       "<td>1.0</td>\n",
       "<td>6.0</td>\n",
       "<td>3.0</td>\n",
       "<td>0.0</td>\n",
       "<td>19.0</td>\n",
       "<td>0.0</td>\n",
       "<td>36 / 998</td></tr>\n",
       "<tr><td>2.0</td>\n",
       "<td>1.0</td>\n",
       "<td>0.0</td>\n",
       "<td>14.0</td>\n",
       "<td>4.0</td>\n",
       "<td>868.0</td>\n",
       "<td>8.0</td>\n",
       "<td>0.0</td>\n",
       "<td>1.0</td>\n",
       "<td>4.0</td>\n",
       "<td>0.0</td>\n",
       "<td>34 / 902</td></tr>\n",
       "<tr><td>6.0</td>\n",
       "<td>0.0</td>\n",
       "<td>2.0</td>\n",
       "<td>0.0</td>\n",
       "<td>2.0</td>\n",
       "<td>9.0</td>\n",
       "<td>913.0</td>\n",
       "<td>0.0</td>\n",
       "<td>1.0</td>\n",
       "<td>0.0</td>\n",
       "<td>0.0</td>\n",
       "<td>20 / 933</td></tr>\n",
       "<tr><td>2.0</td>\n",
       "<td>4.0</td>\n",
       "<td>7.0</td>\n",
       "<td>1.0</td>\n",
       "<td>1.0</td>\n",
       "<td>0.0</td>\n",
       "<td>1.0</td>\n",
       "<td>1070.0</td>\n",
       "<td>0.0</td>\n",
       "<td>6.0</td>\n",
       "<td>0.0</td>\n",
       "<td>22 / 1,092</td></tr>\n",
       "<tr><td>4.0</td>\n",
       "<td>6.0</td>\n",
       "<td>7.0</td>\n",
       "<td>4.0</td>\n",
       "<td>0.0</td>\n",
       "<td>10.0</td>\n",
       "<td>4.0</td>\n",
       "<td>0.0</td>\n",
       "<td>938.0</td>\n",
       "<td>6.0</td>\n",
       "<td>0.0</td>\n",
       "<td>41 / 979</td></tr>\n",
       "<tr><td>5.0</td>\n",
       "<td>2.0</td>\n",
       "<td>1.0</td>\n",
       "<td>12.0</td>\n",
       "<td>15.0</td>\n",
       "<td>1.0</td>\n",
       "<td>0.0</td>\n",
       "<td>26.0</td>\n",
       "<td>2.0</td>\n",
       "<td>974.0</td>\n",
       "<td>0.1</td>\n",
       "<td>64 / 1,038</td></tr>\n",
       "<tr><td>982.0</td>\n",
       "<td>1110.0</td>\n",
       "<td>1018.0</td>\n",
       "<td>1039.0</td>\n",
       "<td>988.0</td>\n",
       "<td>907.0</td>\n",
       "<td>940.0</td>\n",
       "<td>1117.0</td>\n",
       "<td>962.0</td>\n",
       "<td>1010.0</td>\n",
       "<td>0.0</td>\n",
       "<td>324 / 10,073</td></tr></table></div>"
      ],
      "text/plain": [
       "0    1     2     3     4    5    6    7     8    9     Error      Rate\n",
       "---  ----  ----  ----  ---  ---  ---  ----  ---  ----  ---------  ------------\n",
       "956  0     0     0     0    1    7    0     2    0     0.010352   10 / 966\n",
       "0    1088  7     2     1    0    0    2     3    0     0.0135993  15 / 1,103\n",
       "5    4     983   9     3    0    1    8     4    0     0.0334317  34 / 1,017\n",
       "0    3     8     997   0    17   0    8     11   1     0.045933   48 / 1,045\n",
       "2    2     3     0     962  1    6    3     0    19    0.0360721  36 / 998\n",
       "2    1     0     14    4    868  8    0     1    4     0.037694   34 / 902\n",
       "6    0     2     0     2    9    913  0     1    0     0.0214362  20 / 933\n",
       "2    4     7     1     1    0    1    1070  0    6     0.0201465  22 / 1,092\n",
       "4    6     7     4     0    10   4    0     938  6     0.0418795  41 / 979\n",
       "5    2     1     12    15   1    0    26    2    974   0.061657   64 / 1,038\n",
       "982  1110  1018  1039  988  907  940  1117  962  1010  0.0321652  324 / 10,073"
      ]
     },
     "metadata": {},
     "output_type": "display_data"
    },
    {
     "name": "stdout",
     "output_type": "stream",
     "text": [
      "\n",
      "Top-10 Hit Ratios:\n"
     ]
    },
    {
     "data": {
      "text/html": [
       "<div style=\"overflow:auto\"><table style=\"width:50%\"><tr><td><b>k</b></td>\n",
       "<td><b>hit_ratio</b></td></tr>\n",
       "<tr><td>1</td>\n",
       "<td>1.0</td></tr>\n",
       "<tr><td>2</td>\n",
       "<td>1.0</td></tr>\n",
       "<tr><td>3</td>\n",
       "<td>1.0</td></tr>\n",
       "<tr><td>4</td>\n",
       "<td>0.9994044</td></tr>\n",
       "<tr><td>5</td>\n",
       "<td>1.0</td></tr>\n",
       "<tr><td>6</td>\n",
       "<td>1.0</td></tr>\n",
       "<tr><td>7</td>\n",
       "<td>1.0</td></tr>\n",
       "<tr><td>8</td>\n",
       "<td>1.0</td></tr>\n",
       "<tr><td>9</td>\n",
       "<td>1.0</td></tr>\n",
       "<tr><td>10</td>\n",
       "<td>1.0</td></tr></table></div>"
      ],
      "text/plain": [
       "k    hit_ratio\n",
       "---  -----------\n",
       "1    0.967835\n",
       "2    0.991363\n",
       "3    0.997717\n",
       "4    0.999404\n",
       "5    0.999901\n",
       "6    0.999901\n",
       "7    1\n",
       "8    1\n",
       "9    1\n",
       "10   1"
      ]
     },
     "metadata": {},
     "output_type": "display_data"
    },
    {
     "name": "stdout",
     "output_type": "stream",
     "text": [
      "\n",
      "ModelMetricsMultinomial: deeplearning\n",
      "** Reported on validation data. **\n",
      "\n",
      "MSE: 0.0389307344561\n",
      "R^2: 0.9952234215\n",
      "LogLoss: 0.154005929257\n",
      "\n",
      "Confusion Matrix: vertical: actual; across: predicted\n",
      "\n"
     ]
    },
    {
     "data": {
      "text/html": [
       "<div style=\"overflow:auto\"><table style=\"width:50%\"><tr><td><b>0</b></td>\n",
       "<td><b>1</b></td>\n",
       "<td><b>2</b></td>\n",
       "<td><b>3</b></td>\n",
       "<td><b>4</b></td>\n",
       "<td><b>5</b></td>\n",
       "<td><b>6</b></td>\n",
       "<td><b>7</b></td>\n",
       "<td><b>8</b></td>\n",
       "<td><b>9</b></td>\n",
       "<td><b>Error</b></td>\n",
       "<td><b>Rate</b></td></tr>\n",
       "<tr><td>770.0</td>\n",
       "<td>0.0</td>\n",
       "<td>3.0</td>\n",
       "<td>0.0</td>\n",
       "<td>0.0</td>\n",
       "<td>0.0</td>\n",
       "<td>4.0</td>\n",
       "<td>1.0</td>\n",
       "<td>4.0</td>\n",
       "<td>1.0</td>\n",
       "<td>0.0</td>\n",
       "<td>13 / 783</td></tr>\n",
       "<tr><td>0.0</td>\n",
       "<td>894.0</td>\n",
       "<td>4.0</td>\n",
       "<td>2.0</td>\n",
       "<td>3.0</td>\n",
       "<td>0.0</td>\n",
       "<td>0.0</td>\n",
       "<td>1.0</td>\n",
       "<td>1.0</td>\n",
       "<td>0.0</td>\n",
       "<td>0.0</td>\n",
       "<td>11 / 905</td></tr>\n",
       "<tr><td>4.0</td>\n",
       "<td>4.0</td>\n",
       "<td>835.0</td>\n",
       "<td>7.0</td>\n",
       "<td>4.0</td>\n",
       "<td>2.0</td>\n",
       "<td>2.0</td>\n",
       "<td>5.0</td>\n",
       "<td>6.0</td>\n",
       "<td>1.0</td>\n",
       "<td>0.0</td>\n",
       "<td>35 / 870</td></tr>\n",
       "<tr><td>2.0</td>\n",
       "<td>1.0</td>\n",
       "<td>10.0</td>\n",
       "<td>820.0</td>\n",
       "<td>1.0</td>\n",
       "<td>24.0</td>\n",
       "<td>0.0</td>\n",
       "<td>13.0</td>\n",
       "<td>8.0</td>\n",
       "<td>2.0</td>\n",
       "<td>0.1</td>\n",
       "<td>61 / 881</td></tr>\n",
       "<tr><td>1.0</td>\n",
       "<td>3.0</td>\n",
       "<td>7.0</td>\n",
       "<td>1.0</td>\n",
       "<td>798.0</td>\n",
       "<td>1.0</td>\n",
       "<td>3.0</td>\n",
       "<td>3.0</td>\n",
       "<td>2.0</td>\n",
       "<td>18.0</td>\n",
       "<td>0.0</td>\n",
       "<td>39 / 837</td></tr>\n",
       "<tr><td>7.0</td>\n",
       "<td>2.0</td>\n",
       "<td>4.0</td>\n",
       "<td>3.0</td>\n",
       "<td>3.0</td>\n",
       "<td>729.0</td>\n",
       "<td>7.0</td>\n",
       "<td>1.0</td>\n",
       "<td>7.0</td>\n",
       "<td>4.0</td>\n",
       "<td>0.0</td>\n",
       "<td>38 / 767</td></tr>\n",
       "<tr><td>5.0</td>\n",
       "<td>1.0</td>\n",
       "<td>1.0</td>\n",
       "<td>0.0</td>\n",
       "<td>2.0</td>\n",
       "<td>4.0</td>\n",
       "<td>811.0</td>\n",
       "<td>0.0</td>\n",
       "<td>0.0</td>\n",
       "<td>0.0</td>\n",
       "<td>0.0</td>\n",
       "<td>13 / 824</td></tr>\n",
       "<tr><td>4.0</td>\n",
       "<td>8.0</td>\n",
       "<td>8.0</td>\n",
       "<td>3.0</td>\n",
       "<td>5.0</td>\n",
       "<td>2.0</td>\n",
       "<td>0.0</td>\n",
       "<td>803.0</td>\n",
       "<td>1.0</td>\n",
       "<td>7.0</td>\n",
       "<td>0.0</td>\n",
       "<td>38 / 841</td></tr>\n",
       "<tr><td>9.0</td>\n",
       "<td>11.0</td>\n",
       "<td>3.0</td>\n",
       "<td>11.0</td>\n",
       "<td>4.0</td>\n",
       "<td>14.0</td>\n",
       "<td>3.0</td>\n",
       "<td>4.0</td>\n",
       "<td>700.0</td>\n",
       "<td>1.0</td>\n",
       "<td>0.1</td>\n",
       "<td>60 / 760</td></tr>\n",
       "<tr><td>7.0</td>\n",
       "<td>3.0</td>\n",
       "<td>2.0</td>\n",
       "<td>9.0</td>\n",
       "<td>14.0</td>\n",
       "<td>3.0</td>\n",
       "<td>0.0</td>\n",
       "<td>22.0</td>\n",
       "<td>4.0</td>\n",
       "<td>740.0</td>\n",
       "<td>0.1</td>\n",
       "<td>64 / 804</td></tr>\n",
       "<tr><td>809.0</td>\n",
       "<td>927.0</td>\n",
       "<td>877.0</td>\n",
       "<td>856.0</td>\n",
       "<td>834.0</td>\n",
       "<td>779.0</td>\n",
       "<td>830.0</td>\n",
       "<td>853.0</td>\n",
       "<td>733.0</td>\n",
       "<td>774.0</td>\n",
       "<td>0.0</td>\n",
       "<td>372 / 8,272</td></tr></table></div>"
      ],
      "text/plain": [
       "0    1    2    3    4    5    6    7    8    9    Error      Rate\n",
       "---  ---  ---  ---  ---  ---  ---  ---  ---  ---  ---------  -----------\n",
       "770  0    3    0    0    0    4    1    4    1    0.0166028  13 / 783\n",
       "0    894  4    2    3    0    0    1    1    0    0.0121547  11 / 905\n",
       "4    4    835  7    4    2    2    5    6    1    0.0402299  35 / 870\n",
       "2    1    10   820  1    24   0    13   8    2    0.0692395  61 / 881\n",
       "1    3    7    1    798  1    3    3    2    18   0.046595   39 / 837\n",
       "7    2    4    3    3    729  7    1    7    4    0.0495437  38 / 767\n",
       "5    1    1    0    2    4    811  0    0    0    0.0157767  13 / 824\n",
       "4    8    8    3    5    2    0    803  1    7    0.0451843  38 / 841\n",
       "9    11   3    11   4    14   3    4    700  1    0.0789474  60 / 760\n",
       "7    3    2    9    14   3    0    22   4    740  0.079602   64 / 804\n",
       "809  927  877  856  834  779  830  853  733  774  0.044971   372 / 8,272"
      ]
     },
     "metadata": {},
     "output_type": "display_data"
    },
    {
     "name": "stdout",
     "output_type": "stream",
     "text": [
      "\n",
      "Top-10 Hit Ratios:\n"
     ]
    },
    {
     "data": {
      "text/html": [
       "<div style=\"overflow:auto\"><table style=\"width:50%\"><tr><td><b>k</b></td>\n",
       "<td><b>hit_ratio</b></td></tr>\n",
       "<tr><td>1</td>\n",
       "<td>0.955029</td></tr>\n",
       "<tr><td>2</td>\n",
       "<td>0.985735</td></tr>\n",
       "<tr><td>3</td>\n",
       "<td>1.0</td></tr>\n",
       "<tr><td>4</td>\n",
       "<td>0.9975822</td></tr>\n",
       "<tr><td>5</td>\n",
       "<td>0.9986702</td></tr>\n",
       "<tr><td>6</td>\n",
       "<td>0.998912</td></tr>\n",
       "<tr><td>7</td>\n",
       "<td>1.0</td></tr>\n",
       "<tr><td>8</td>\n",
       "<td>0.9996373</td></tr>\n",
       "<tr><td>9</td>\n",
       "<td>1.0</td></tr>\n",
       "<tr><td>10</td>\n",
       "<td>1.0</td></tr></table></div>"
      ],
      "text/plain": [
       "k    hit_ratio\n",
       "---  -----------\n",
       "1    0.955029\n",
       "2    0.985735\n",
       "3    0.992867\n",
       "4    0.997582\n",
       "5    0.99867\n",
       "6    0.998912\n",
       "7    0.999396\n",
       "8    0.999637\n",
       "9    1\n",
       "10   1"
      ]
     },
     "metadata": {},
     "output_type": "display_data"
    },
    {
     "name": "stdout",
     "output_type": "stream",
     "text": [
      "\n",
      "Scoring History:\n"
     ]
    },
    {
     "data": {
      "text/html": [
       "<div style=\"overflow:auto\"><table style=\"width:50%\"><tr><td><b></b></td>\n",
       "<td><b>timestamp</b></td>\n",
       "<td><b>duration</b></td>\n",
       "<td><b>training_speed</b></td>\n",
       "<td><b>epochs</b></td>\n",
       "<td><b>samples</b></td>\n",
       "<td><b>training_MSE</b></td>\n",
       "<td><b>training_r2</b></td>\n",
       "<td><b>training_logloss</b></td>\n",
       "<td><b>training_classification_error</b></td>\n",
       "<td><b>validation_MSE</b></td>\n",
       "<td><b>validation_r2</b></td>\n",
       "<td><b>validation_logloss</b></td>\n",
       "<td><b>validation_classification_error</b></td></tr>\n",
       "<tr><td></td>\n",
       "<td>2015-11-06 17:57:06</td>\n",
       "<td> 0.000 sec</td>\n",
       "<td>None</td>\n",
       "<td>0.0</td>\n",
       "<td>0.0</td>\n",
       "<td>nan</td>\n",
       "<td>nan</td>\n",
       "<td>nan</td>\n",
       "<td>nan</td>\n",
       "<td>nan</td>\n",
       "<td>nan</td>\n",
       "<td>nan</td>\n",
       "<td>nan</td></tr>\n",
       "<tr><td></td>\n",
       "<td>2015-11-06 17:57:14</td>\n",
       "<td> 7.795 sec</td>\n",
       "<td>5054 rows/sec</td>\n",
       "<td>1.0</td>\n",
       "<td>33728.0</td>\n",
       "<td>0.1</td>\n",
       "<td>1.0</td>\n",
       "<td>0.3</td>\n",
       "<td>0.1</td>\n",
       "<td>0.1</td>\n",
       "<td>1.0</td>\n",
       "<td>0.3</td>\n",
       "<td>0.1</td></tr>\n",
       "<tr><td></td>\n",
       "<td>2015-11-06 17:57:27</td>\n",
       "<td>20.870 sec</td>\n",
       "<td>5410 rows/sec</td>\n",
       "<td>3.0</td>\n",
       "<td>101184.0</td>\n",
       "<td>0.0</td>\n",
       "<td>1.0</td>\n",
       "<td>0.2</td>\n",
       "<td>0.1</td>\n",
       "<td>0.1</td>\n",
       "<td>1.0</td>\n",
       "<td>0.2</td>\n",
       "<td>0.1</td></tr>\n",
       "<tr><td></td>\n",
       "<td>2015-11-06 17:57:41</td>\n",
       "<td>34.775 sec</td>\n",
       "<td>5340 rows/sec</td>\n",
       "<td>5.0</td>\n",
       "<td>168640.0</td>\n",
       "<td>0.0</td>\n",
       "<td>1.0</td>\n",
       "<td>0.1</td>\n",
       "<td>0.0</td>\n",
       "<td>0.0</td>\n",
       "<td>1.0</td>\n",
       "<td>0.2</td>\n",
       "<td>0.1</td></tr>\n",
       "<tr><td></td>\n",
       "<td>2015-11-06 17:57:53</td>\n",
       "<td>47.336 sec</td>\n",
       "<td>5477 rows/sec</td>\n",
       "<td>7.0</td>\n",
       "<td>236096.0</td>\n",
       "<td>0.0</td>\n",
       "<td>1.0</td>\n",
       "<td>0.1</td>\n",
       "<td>0.0</td>\n",
       "<td>0.0</td>\n",
       "<td>1.0</td>\n",
       "<td>0.2</td>\n",
       "<td>0.1</td></tr>\n",
       "<tr><td></td>\n",
       "<td>2015-11-06 17:58:05</td>\n",
       "<td>59.437 sec</td>\n",
       "<td>5604 rows/sec</td>\n",
       "<td>9.0</td>\n",
       "<td>303552.0</td>\n",
       "<td>0.0</td>\n",
       "<td>1.0</td>\n",
       "<td>0.1</td>\n",
       "<td>0.0</td>\n",
       "<td>0.0</td>\n",
       "<td>1.0</td>\n",
       "<td>0.2</td>\n",
       "<td>0.0</td></tr>\n",
       "<tr><td></td>\n",
       "<td>2015-11-06 17:58:12</td>\n",
       "<td> 1 min  6.610 sec</td>\n",
       "<td>5620 rows/sec</td>\n",
       "<td>10.0</td>\n",
       "<td>337280.0</td>\n",
       "<td>0.0</td>\n",
       "<td>1.0</td>\n",
       "<td>0.1</td>\n",
       "<td>0.0</td>\n",
       "<td>0.0</td>\n",
       "<td>1.0</td>\n",
       "<td>0.2</td>\n",
       "<td>0.0</td></tr></table></div>"
      ],
      "text/plain": [
       "    timestamp            duration          training_speed    epochs    samples    training_MSE    training_r2    training_logloss    training_classification_error    validation_MSE    validation_r2    validation_logloss    validation_classification_error\n",
       "--  -------------------  ----------------  ----------------  --------  ---------  --------------  -------------  ------------------  -------------------------------  ----------------  ---------------  --------------------  ---------------------------------\n",
       "    2015-11-06 17:57:06  0.000 sec                           0         0          nan             nan            nan                 nan                              nan               nan              nan                   nan\n",
       "    2015-11-06 17:57:14  7.795 sec         5054 rows/sec     1         33728      0.0678257       0.991885       0.261026            0.0787253                        0.0735001         0.990982         0.287345              0.0852273\n",
       "    2015-11-06 17:57:27  20.870 sec        5410 rows/sec     3         101184     0.0462806       0.994463       0.177962            0.054105                         0.0534736         0.993439         0.213528              0.0615329\n",
       "    2015-11-06 17:57:41  34.775 sec        5340 rows/sec     5         168640     0.0382155       0.995428       0.144466            0.0448724                        0.0468121         0.994256         0.184115              0.0552466\n",
       "    2015-11-06 17:57:53  47.336 sec        5477 rows/sec     7         236096     0.0322268       0.996144       0.117074            0.0391145                        0.043103          0.994712         0.167702              0.0512573\n",
       "    2015-11-06 17:58:05  59.437 sec        5604 rows/sec     9         303552     0.0280336       0.996646       0.101855            0.0339521                        0.0407132         0.995005         0.163211              0.0476306\n",
       "    2015-11-06 17:58:12  1 min  6.610 sec  5620 rows/sec     10        337280     0.0268396       0.996789       0.0963209           0.0321652                        0.0389307         0.995223         0.154006              0.044971"
      ]
     },
     "metadata": {},
     "output_type": "display_data"
    },
    {
     "data": {
      "text/plain": []
     },
     "execution_count": 21,
     "metadata": {},
     "output_type": "execute_result"
    }
   ],
   "source": [
    "# Examine the performance of the trained model\n",
    "model"
   ]
  },
  {
   "cell_type": "code",
   "execution_count": 22,
   "metadata": {
    "collapsed": false
   },
   "outputs": [
    {
     "data": {
      "text/html": [
       "<table>\n",
       "<tr><th style=\"text-align: right;\">  predict</th><th style=\"text-align: right;\">         p0</th><th style=\"text-align: right;\">         p1</th><th style=\"text-align: right;\">         p2</th><th style=\"text-align: right;\">         p3</th><th style=\"text-align: right;\">         p4</th><th style=\"text-align: right;\">         p5</th><th style=\"text-align: right;\">         p6</th><th style=\"text-align: right;\">         p7</th><th style=\"text-align: right;\">         p8</th><th style=\"text-align: right;\">         p9</th></tr>\n",
       "<tr><td style=\"text-align: right;\">        2</td><td style=\"text-align: right;\">6.4353e-09 </td><td style=\"text-align: right;\">1.81113e-06</td><td style=\"text-align: right;\">0.999978   </td><td style=\"text-align: right;\">1.04732e-05</td><td style=\"text-align: right;\">2.20001e-08</td><td style=\"text-align: right;\">2.86085e-09</td><td style=\"text-align: right;\">1.99263e-08</td><td style=\"text-align: right;\">7.92794e-06</td><td style=\"text-align: right;\">1.51323e-06</td><td style=\"text-align: right;\">4.69353e-09</td></tr>\n",
       "<tr><td style=\"text-align: right;\">        0</td><td style=\"text-align: right;\">0.999982   </td><td style=\"text-align: right;\">4.57302e-12</td><td style=\"text-align: right;\">3.13741e-07</td><td style=\"text-align: right;\">3.14483e-08</td><td style=\"text-align: right;\">5.06734e-10</td><td style=\"text-align: right;\">1.83506e-06</td><td style=\"text-align: right;\">1.55801e-05</td><td style=\"text-align: right;\">2.62443e-08</td><td style=\"text-align: right;\">1.86786e-08</td><td style=\"text-align: right;\">4.34962e-08</td></tr>\n",
       "<tr><td style=\"text-align: right;\">        9</td><td style=\"text-align: right;\">1.46946e-06</td><td style=\"text-align: right;\">1.35135e-05</td><td style=\"text-align: right;\">6.00332e-06</td><td style=\"text-align: right;\">6.66572e-05</td><td style=\"text-align: right;\">0.006799   </td><td style=\"text-align: right;\">6.98175e-05</td><td style=\"text-align: right;\">6.26813e-07</td><td style=\"text-align: right;\">0.000206089</td><td style=\"text-align: right;\">0.000283864</td><td style=\"text-align: right;\">0.992553   </td></tr>\n",
       "<tr><td style=\"text-align: right;\">        9</td><td style=\"text-align: right;\">0.0146217  </td><td style=\"text-align: right;\">0.000665524</td><td style=\"text-align: right;\">0.0309923  </td><td style=\"text-align: right;\">0.00121552 </td><td style=\"text-align: right;\">0.408638   </td><td style=\"text-align: right;\">0.00491895 </td><td style=\"text-align: right;\">0.00236662 </td><td style=\"text-align: right;\">0.0352659  </td><td style=\"text-align: right;\">0.00617715 </td><td style=\"text-align: right;\">0.495139   </td></tr>\n",
       "<tr><td style=\"text-align: right;\">        3</td><td style=\"text-align: right;\">1.83626e-07</td><td style=\"text-align: right;\">3.11724e-05</td><td style=\"text-align: right;\">0.00473087 </td><td style=\"text-align: right;\">0.994745   </td><td style=\"text-align: right;\">5.15905e-08</td><td style=\"text-align: right;\">9.82763e-05</td><td style=\"text-align: right;\">5.7696e-08 </td><td style=\"text-align: right;\">1.25964e-05</td><td style=\"text-align: right;\">0.000376106</td><td style=\"text-align: right;\">5.46652e-06</td></tr>\n",
       "<tr><td style=\"text-align: right;\">        7</td><td style=\"text-align: right;\">1.45556e-07</td><td style=\"text-align: right;\">5.44308e-08</td><td style=\"text-align: right;\">2.16806e-05</td><td style=\"text-align: right;\">1.46043e-05</td><td style=\"text-align: right;\">3.91758e-07</td><td style=\"text-align: right;\">2.59108e-08</td><td style=\"text-align: right;\">5.93445e-09</td><td style=\"text-align: right;\">0.998348   </td><td style=\"text-align: right;\">2.81957e-07</td><td style=\"text-align: right;\">0.00161511 </td></tr>\n",
       "<tr><td style=\"text-align: right;\">        0</td><td style=\"text-align: right;\">1          </td><td style=\"text-align: right;\">4.66556e-16</td><td style=\"text-align: right;\">2.89753e-09</td><td style=\"text-align: right;\">5.82884e-11</td><td style=\"text-align: right;\">1.59186e-12</td><td style=\"text-align: right;\">1.60146e-10</td><td style=\"text-align: right;\">2.40085e-08</td><td style=\"text-align: right;\">4.21825e-11</td><td style=\"text-align: right;\">5.09354e-10</td><td style=\"text-align: right;\">8.50287e-11</td></tr>\n",
       "<tr><td style=\"text-align: right;\">        3</td><td style=\"text-align: right;\">1.24676e-10</td><td style=\"text-align: right;\">5.26744e-08</td><td style=\"text-align: right;\">1.26678e-07</td><td style=\"text-align: right;\">0.999994   </td><td style=\"text-align: right;\">2.57476e-11</td><td style=\"text-align: right;\">4.46286e-06</td><td style=\"text-align: right;\">3.38336e-12</td><td style=\"text-align: right;\">2.58479e-08</td><td style=\"text-align: right;\">1.1837e-06 </td><td style=\"text-align: right;\">5.10359e-07</td></tr>\n",
       "<tr><td style=\"text-align: right;\">        0</td><td style=\"text-align: right;\">0.999999   </td><td style=\"text-align: right;\">1.785e-13  </td><td style=\"text-align: right;\">3.77519e-08</td><td style=\"text-align: right;\">3.59358e-09</td><td style=\"text-align: right;\">2.4729e-11 </td><td style=\"text-align: right;\">1.88116e-07</td><td style=\"text-align: right;\">9.47324e-07</td><td style=\"text-align: right;\">2.38903e-09</td><td style=\"text-align: right;\">2.25314e-09</td><td style=\"text-align: right;\">5.57159e-09</td></tr>\n",
       "<tr><td style=\"text-align: right;\">        3</td><td style=\"text-align: right;\">3.28156e-09</td><td style=\"text-align: right;\">1.21072e-06</td><td style=\"text-align: right;\">2.63171e-07</td><td style=\"text-align: right;\">0.999782   </td><td style=\"text-align: right;\">7.02939e-10</td><td style=\"text-align: right;\">0.000208944</td><td style=\"text-align: right;\">4.05099e-10</td><td style=\"text-align: right;\">1.1932e-08 </td><td style=\"text-align: right;\">6.99967e-06</td><td style=\"text-align: right;\">6.60508e-07</td></tr>\n",
       "</table>"
      ]
     },
     "metadata": {},
     "output_type": "display_data"
    },
    {
     "data": {
      "text/plain": []
     },
     "execution_count": 22,
     "metadata": {},
     "output_type": "execute_result"
    }
   ],
   "source": [
    "# Perform classification on the test set (predict the handwritten digit, given the test set, which is unlabeled)\n",
    "pred = model.predict(test)\n",
    "\n",
    "# Take a look at the predictions\n",
    "pred.head()"
   ]
  },
  {
   "cell_type": "code",
   "execution_count": 24,
   "metadata": {
    "collapsed": false
   },
   "outputs": [
    {
     "data": {
      "text/html": [
       "<table>\n",
       "<tr><th style=\"text-align: right;\">  predict</th></tr>\n",
       "<tr><td style=\"text-align: right;\">        2</td></tr>\n",
       "<tr><td style=\"text-align: right;\">        0</td></tr>\n",
       "<tr><td style=\"text-align: right;\">        9</td></tr>\n",
       "<tr><td style=\"text-align: right;\">        9</td></tr>\n",
       "<tr><td style=\"text-align: right;\">        3</td></tr>\n",
       "<tr><td style=\"text-align: right;\">        7</td></tr>\n",
       "<tr><td style=\"text-align: right;\">        0</td></tr>\n",
       "<tr><td style=\"text-align: right;\">        3</td></tr>\n",
       "<tr><td style=\"text-align: right;\">        0</td></tr>\n",
       "<tr><td style=\"text-align: right;\">        3</td></tr>\n",
       "</table>"
      ]
     },
     "metadata": {},
     "output_type": "display_data"
    },
    {
     "data": {
      "text/plain": []
     },
     "execution_count": 24,
     "metadata": {},
     "output_type": "execute_result"
    }
   ],
   "source": [
    "# Grab the prediction column so you can submit it in your Kaggle submission csv\n",
    "submit_pred = pred[:,0]\n",
    "submit_pred.head()"
   ]
  },
  {
   "cell_type": "code",
   "execution_count": 25,
   "metadata": {
    "collapsed": false
   },
   "outputs": [
    {
     "name": "stdout",
     "output_type": "stream",
     "text": [
      "\n",
      "Parse Progress: [##################################################] 100%\n"
     ]
    }
   ],
   "source": [
    "# Create a dataframe that you can submit to Kaggle with the first column labeled 'ImageID'\n",
    "# and the second column labeled 'Label'\n",
    "# Create a H2O dataframe, use a dictionary to create first column, and then cbind the submit_pred column\n",
    "submission_dataframe = h2o.H2OFrame({'ImageID': list(range(1, len(test)+1))}).cbind(submit_pred)\n",
    "\n",
    "# Rename the second column (formerely 'Predict') to 'Label'\n",
    "submission_dataframe.set_name(1,\"Label\")"
   ]
  },
  {
   "cell_type": "code",
   "execution_count": 27,
   "metadata": {
    "collapsed": false
   },
   "outputs": [
    {
     "data": {
      "text/html": [
       "<table>\n",
       "<tr><th style=\"text-align: right;\">  ImageID</th><th style=\"text-align: right;\">  Label</th></tr>\n",
       "<tr><td style=\"text-align: right;\">        1</td><td style=\"text-align: right;\">      2</td></tr>\n",
       "<tr><td style=\"text-align: right;\">        2</td><td style=\"text-align: right;\">      0</td></tr>\n",
       "<tr><td style=\"text-align: right;\">        3</td><td style=\"text-align: right;\">      9</td></tr>\n",
       "<tr><td style=\"text-align: right;\">        4</td><td style=\"text-align: right;\">      9</td></tr>\n",
       "<tr><td style=\"text-align: right;\">        5</td><td style=\"text-align: right;\">      3</td></tr>\n",
       "<tr><td style=\"text-align: right;\">        6</td><td style=\"text-align: right;\">      7</td></tr>\n",
       "<tr><td style=\"text-align: right;\">        7</td><td style=\"text-align: right;\">      0</td></tr>\n",
       "<tr><td style=\"text-align: right;\">        8</td><td style=\"text-align: right;\">      3</td></tr>\n",
       "<tr><td style=\"text-align: right;\">        9</td><td style=\"text-align: right;\">      0</td></tr>\n",
       "<tr><td style=\"text-align: right;\">       10</td><td style=\"text-align: right;\">      3</td></tr>\n",
       "</table>"
      ]
     },
     "metadata": {},
     "output_type": "display_data"
    },
    {
     "data": {
      "text/plain": []
     },
     "execution_count": 27,
     "metadata": {},
     "output_type": "execute_result"
    }
   ],
   "source": [
    "# Take a look at the dataframe\n",
    "submission_dataframe"
   ]
  },
  {
   "cell_type": "code",
   "execution_count": 29,
   "metadata": {
    "collapsed": false
   },
   "outputs": [
    {
     "name": "stdout",
     "output_type": "stream",
     "text": [
      "\n",
      "Export File Progress: [##################################################] 100%\n"
     ]
    }
   ],
   "source": [
    "# Export your data into a csv to submit for kaggle\n",
    "# the first parameter is the dataframe, the second is the path to your submission file\n",
    "# you can update the name of your submission file to whatever you want\n",
    "h2o.h2o.export_file(submission_dataframe, path =\"submission_h20.csv\")"
   ]
  },
  {
   "cell_type": "code",
   "execution_count": null,
   "metadata": {
    "collapsed": true
   },
   "outputs": [],
   "source": [
    "# Go to https://www.kaggle.com/c/digit-recognizer/submissions/attach\n",
    "# and drop in your submission file you should get ~95% accuracy, not bad for a first submission!"
   ]
  }
 ],
 "metadata": {
  "kernelspec": {
   "display_name": "Python 2",
   "language": "python",
   "name": "python2"
  },
  "language_info": {
   "codemirror_mode": {
    "name": "ipython",
    "version": 2
   },
   "file_extension": ".py",
   "mimetype": "text/x-python",
   "name": "python",
   "nbconvert_exporter": "python",
   "pygments_lexer": "ipython2",
   "version": "2.7.10"
  }
 },
 "nbformat": 4,
 "nbformat_minor": 0
}
